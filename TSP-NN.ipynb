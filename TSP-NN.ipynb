{
 "cells": [
  {
   "cell_type": "code",
   "execution_count": 12,
   "id": "429e3e4a",
   "metadata": {},
   "outputs": [],
   "source": [
    "import numpy as np"
   ]
  },
  {
   "cell_type": "code",
   "execution_count": 13,
   "id": "d170509a",
   "metadata": {},
   "outputs": [],
   "source": [
    "import pandas as pd"
   ]
  },
  {
   "cell_type": "code",
   "execution_count": 57,
   "id": "28d695d4",
   "metadata": {},
   "outputs": [],
   "source": [
    "df = pd.read_csv('15-Points.csv')"
   ]
  },
  {
   "cell_type": "code",
   "execution_count": 79,
   "id": "bdbd1e2c",
   "metadata": {},
   "outputs": [
    {
     "data": {
      "text/html": [
       "<div>\n",
       "<style scoped>\n",
       "    .dataframe tbody tr th:only-of-type {\n",
       "        vertical-align: middle;\n",
       "    }\n",
       "\n",
       "    .dataframe tbody tr th {\n",
       "        vertical-align: top;\n",
       "    }\n",
       "\n",
       "    .dataframe thead th {\n",
       "        text-align: right;\n",
       "    }\n",
       "</style>\n",
       "<table border=\"1\" class=\"dataframe\">\n",
       "  <thead>\n",
       "    <tr style=\"text-align: right;\">\n",
       "      <th></th>\n",
       "      <th>x</th>\n",
       "      <th>y</th>\n",
       "      <th>City</th>\n",
       "    </tr>\n",
       "  </thead>\n",
       "  <tbody>\n",
       "    <tr>\n",
       "      <th>10</th>\n",
       "      <td>-0.135819</td>\n",
       "      <td>-28.72930</td>\n",
       "      <td>11</td>\n",
       "    </tr>\n",
       "    <tr>\n",
       "      <th>11</th>\n",
       "      <td>-65.086600</td>\n",
       "      <td>-36.06250</td>\n",
       "      <td>12</td>\n",
       "    </tr>\n",
       "    <tr>\n",
       "      <th>12</th>\n",
       "      <td>-21.498300</td>\n",
       "      <td>7.31942</td>\n",
       "      <td>13</td>\n",
       "    </tr>\n",
       "    <tr>\n",
       "      <th>13</th>\n",
       "      <td>-57.568700</td>\n",
       "      <td>-43.25060</td>\n",
       "      <td>14</td>\n",
       "    </tr>\n",
       "    <tr>\n",
       "      <th>14</th>\n",
       "      <td>-43.070000</td>\n",
       "      <td>14.55480</td>\n",
       "      <td>15</td>\n",
       "    </tr>\n",
       "  </tbody>\n",
       "</table>\n",
       "</div>"
      ],
      "text/plain": [
       "            x         y  City\n",
       "10  -0.135819 -28.72930    11\n",
       "11 -65.086600 -36.06250    12\n",
       "12 -21.498300   7.31942    13\n",
       "13 -57.568700 -43.25060    14\n",
       "14 -43.070000  14.55480    15"
      ]
     },
     "execution_count": 79,
     "metadata": {},
     "output_type": "execute_result"
    }
   ],
   "source": [
    "df.tail()"
   ]
  },
  {
   "cell_type": "code",
   "execution_count": 2,
   "id": "91e515c8",
   "metadata": {},
   "outputs": [],
   "source": [
    "\"\"\"class City:\n",
    "    def __init__(self,name,x,y):\n",
    "        self.Name = name\n",
    "        self.X_coor = x\n",
    "        self.Y_coor = y\"\"\""
   ]
  },
  {
   "cell_type": "code",
   "execution_count": 31,
   "id": "7dd17e64",
   "metadata": {},
   "outputs": [],
   "source": [
    "\"\"\"def Model_problem(d):\n",
    "    data = []\n",
    "    for row in d.index:\n",
    "        city = City(df.iloc[row,0],df.iloc[row,1],df.iloc[row,2])\n",
    "        data.append(city)\n",
    "    return data\"\"\""
   ]
  },
  {
   "cell_type": "code",
   "execution_count": 91,
   "id": "2e6f9d76",
   "metadata": {},
   "outputs": [],
   "source": [
    "def Generate_Distance_Matrix(data):\n",
    "    leng = data.shape[0]\n",
    "    print(leng)\n",
    "    dis = [[0 for i in range(leng)] for j in range(leng)] \n",
    "    for i in range(leng):\n",
    "        for j in range(leng):\n",
    "            dis[i][j] = np.sqrt((data.loc[i,'x'] - data.loc[j,'x'])**2 + (data.loc[i,'y'] - data.loc[j,'y'])**2)\n",
    "    return dis"
   ]
  },
  {
   "cell_type": "code",
   "execution_count": 164,
   "id": "44c17f3d",
   "metadata": {},
   "outputs": [],
   "source": [
    "def TSP_NN(matrix):\n",
    "    i = 0\n",
    "    cost = 0\n",
    "    travel = []\n",
    "    travel.append(1)\n",
    "    while len(travel) < len(matrix):\n",
    "        arr = matrix[i]\n",
    "        mn = 100000\n",
    "        for k in range(len(arr)):\n",
    "            if arr[k] > 0 and arr[k] <= mn and k+1 not in travel:\n",
    "                mn = arr[k]\n",
    "                \n",
    "        j = arr.index(mn)\n",
    "        travel.append(j+1)\n",
    "        cost += mn\n",
    "        i = j\n",
    "        \n",
    "    last_index = travel[-1]\n",
    "    last_index -= 1\n",
    "    cost += matrix[last_index][0]\n",
    "    travel.append(1)\n",
    "    \n",
    "    return travel,cost"
   ]
  },
  {
   "cell_type": "code",
   "execution_count": 165,
   "id": "fcfa6a68",
   "metadata": {},
   "outputs": [
    {
     "name": "stdout",
     "output_type": "stream",
     "text": [
      "15\n"
     ]
    }
   ],
   "source": [
    "m = Generate_Distance_Matrix(df)"
   ]
  },
  {
   "cell_type": "code",
   "execution_count": 166,
   "id": "5cda3e55",
   "metadata": {},
   "outputs": [],
   "source": [
    "mat,c = TSP_NN(m)"
   ]
  },
  {
   "cell_type": "code",
   "execution_count": 167,
   "id": "96924c97",
   "metadata": {},
   "outputs": [
    {
     "data": {
      "text/plain": [
       "[1, 13, 2, 15, 9, 5, 7, 3, 12, 14, 10, 8, 6, 4, 11, 1]"
      ]
     },
     "execution_count": 167,
     "metadata": {},
     "output_type": "execute_result"
    }
   ],
   "source": [
    "mat"
   ]
  },
  {
   "cell_type": "code",
   "execution_count": 168,
   "id": "9f1db73a",
   "metadata": {},
   "outputs": [
    {
     "data": {
      "text/plain": [
       "284.3810904080332"
      ]
     },
     "execution_count": 168,
     "metadata": {},
     "output_type": "execute_result"
    }
   ],
   "source": [
    "c"
   ]
  },
  {
   "cell_type": "code",
   "execution_count": null,
   "id": "6d8da36a",
   "metadata": {},
   "outputs": [],
   "source": []
  }
 ],
 "metadata": {
  "kernelspec": {
   "display_name": "Python 3 (ipykernel)",
   "language": "python",
   "name": "python3"
  },
  "language_info": {
   "codemirror_mode": {
    "name": "ipython",
    "version": 3
   },
   "file_extension": ".py",
   "mimetype": "text/x-python",
   "name": "python",
   "nbconvert_exporter": "python",
   "pygments_lexer": "ipython3",
   "version": "3.9.13"
  }
 },
 "nbformat": 4,
 "nbformat_minor": 5
}
