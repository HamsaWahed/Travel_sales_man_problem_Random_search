{
 "cells": [
  {
   "cell_type": "code",
   "execution_count": 1,
   "id": "8bc675f1",
   "metadata": {},
   "outputs": [],
   "source": [
    "import pandas as pd\n",
    "import numpy as np"
   ]
  },
  {
   "cell_type": "code",
   "execution_count": 362,
   "id": "d1ce32e7",
   "metadata": {},
   "outputs": [],
   "source": [
    "import copy"
   ]
  },
  {
   "cell_type": "code",
   "execution_count": 2,
   "id": "3d212eaf",
   "metadata": {},
   "outputs": [],
   "source": [
    "import random "
   ]
  },
  {
   "cell_type": "code",
   "execution_count": 3,
   "id": "bb460ff1",
   "metadata": {},
   "outputs": [],
   "source": [
    "df = pd.read_csv(\"15-Points.csv\")"
   ]
  },
  {
   "cell_type": "code",
   "execution_count": 4,
   "id": "75b52e24",
   "metadata": {},
   "outputs": [
    {
     "data": {
      "text/html": [
       "<div>\n",
       "<style scoped>\n",
       "    .dataframe tbody tr th:only-of-type {\n",
       "        vertical-align: middle;\n",
       "    }\n",
       "\n",
       "    .dataframe tbody tr th {\n",
       "        vertical-align: top;\n",
       "    }\n",
       "\n",
       "    .dataframe thead th {\n",
       "        text-align: right;\n",
       "    }\n",
       "</style>\n",
       "<table border=\"1\" class=\"dataframe\">\n",
       "  <thead>\n",
       "    <tr style=\"text-align: right;\">\n",
       "      <th></th>\n",
       "      <th>x</th>\n",
       "      <th>y</th>\n",
       "      <th>City</th>\n",
       "    </tr>\n",
       "  </thead>\n",
       "  <tbody>\n",
       "    <tr>\n",
       "      <th>0</th>\n",
       "      <td>5.500000e-08</td>\n",
       "      <td>9.860000e-09</td>\n",
       "      <td>1</td>\n",
       "    </tr>\n",
       "    <tr>\n",
       "      <th>1</th>\n",
       "      <td>-2.887330e+01</td>\n",
       "      <td>-7.980000e-08</td>\n",
       "      <td>2</td>\n",
       "    </tr>\n",
       "    <tr>\n",
       "      <th>2</th>\n",
       "      <td>-7.929160e+01</td>\n",
       "      <td>-2.140330e+01</td>\n",
       "      <td>3</td>\n",
       "    </tr>\n",
       "    <tr>\n",
       "      <th>3</th>\n",
       "      <td>-1.465770e+01</td>\n",
       "      <td>-4.338960e+01</td>\n",
       "      <td>4</td>\n",
       "    </tr>\n",
       "    <tr>\n",
       "      <th>4</th>\n",
       "      <td>-6.474730e+01</td>\n",
       "      <td>2.189820e+01</td>\n",
       "      <td>5</td>\n",
       "    </tr>\n",
       "  </tbody>\n",
       "</table>\n",
       "</div>"
      ],
      "text/plain": [
       "              x             y  City\n",
       "0  5.500000e-08  9.860000e-09     1\n",
       "1 -2.887330e+01 -7.980000e-08     2\n",
       "2 -7.929160e+01 -2.140330e+01     3\n",
       "3 -1.465770e+01 -4.338960e+01     4\n",
       "4 -6.474730e+01  2.189820e+01     5"
      ]
     },
     "execution_count": 4,
     "metadata": {},
     "output_type": "execute_result"
    }
   ],
   "source": [
    "df.head()"
   ]
  },
  {
   "cell_type": "code",
   "execution_count": 5,
   "id": "2bbf5e1e",
   "metadata": {},
   "outputs": [],
   "source": [
    "class City:\n",
    "    def __init__(self,name,x,y):\n",
    "        self.Name = name\n",
    "        self.X_coor = x\n",
    "        self.Y_coor = y\n",
    "    def __repr__(self):\n",
    "        return f'{self.Name}'"
   ]
  },
  {
   "cell_type": "code",
   "execution_count": 6,
   "id": "2ef42d2c",
   "metadata": {},
   "outputs": [],
   "source": [
    "def Model_problem(d):\n",
    "    data = []\n",
    "    for row in d.index:\n",
    "        city = City(df.iloc[row,2],df.iloc[row,0],df.iloc[row,1])\n",
    "        data.append(city)\n",
    "    return data"
   ]
  },
  {
   "cell_type": "code",
   "execution_count": 125,
   "id": "325e1035",
   "metadata": {},
   "outputs": [],
   "source": [
    "class Chromosome:\n",
    "    def __init__(self,data_list):\n",
    "        self.data = data_list\n",
    "        cost = 0\n",
    "        i = 0\n",
    "        while i < len(self.data)-1:\n",
    "            cost += np.sqrt((data_list[i].X_coor - data_list[i+1].X_coor)**2 + (data_list[i].Y_coor - data_list[i+1].Y_coor)**2)\n",
    "            i += 1\n",
    "        cost += np.sqrt((data_list[0].X_coor - data_list[-1].X_coor)**2 + (data_list[0].Y_coor - data_list[-1].Y_coor)**2)\n",
    "        self.Cost = cost\n",
    "        self.Fitness = 1/cost \n",
    "    def __repr__(self):\n",
    "        return f'{self.data}'"
   ]
  },
  {
   "cell_type": "code",
   "execution_count": 127,
   "id": "f6380342",
   "metadata": {},
   "outputs": [],
   "source": [
    "def Init_population(data_list,size):\n",
    "    chromosomes = []\n",
    "    for i in range(size):\n",
    "        genes = data_list[:]\n",
    "        random.shuffle(genes)\n",
    "        chromosomes.append(Chromosome(genes))\n",
    "    return chromosomes"
   ]
  },
  {
   "cell_type": "code",
   "execution_count": 383,
   "id": "55d0d3ab",
   "metadata": {},
   "outputs": [],
   "source": [
    "def Elitism(pops,numOfItems):\n",
    "    pops_sorted = sorted(pops,key = lambda x:x.Fitness,reverse=True)\n",
    "    return pops_sorted,numOfItems"
   ]
  },
  {
   "cell_type": "code",
   "execution_count": 384,
   "id": "3a14dbc7",
   "metadata": {},
   "outputs": [],
   "source": [
    "def tournment(chromosomes,size):\n",
    "        randomRow = np.random.randint(0,size, size=1)\n",
    "        p = chromosomes[randomRow[0]]\n",
    "        #p2 = chromosomes[randomRow[1]]\n",
    "        return p"
   ]
  },
  {
   "cell_type": "code",
   "execution_count": 385,
   "id": "31295770",
   "metadata": {},
   "outputs": [],
   "source": [
    "def PMC(p1,p2,ind1,ind2):\n",
    "            child1 = copy.deepcopy(p1).data\n",
    "            child2 = copy.deepcopy(p2).data\n",
    "            for c in range(ind1,ind2-1):\n",
    "                if child1[c] in child2:\n",
    "                    ind_c = child2.index(child1[c])\n",
    "                    child2[ind_c] = child2[c]\n",
    "                    child2[c] = child1[c]\n",
    "                    \n",
    "            for c in range(ind1,ind2-1):\n",
    "                if child2[c] in child1:\n",
    "                    ind_c = child1.index(child2[c])\n",
    "                    child1[ind_c] = child1[c]\n",
    "                    child1[c] = child2[c]\n",
    "            child1 = Chromosome(child1)\n",
    "            child2 = Chromosome(child2)\n",
    "            return child1,child2"
   ]
  },
  {
   "cell_type": "code",
   "execution_count": 415,
   "id": "c5789f6d",
   "metadata": {},
   "outputs": [],
   "source": [
    "def CrossOver(size,elite,chromosomes,prob,new_pop,length):\n",
    "    for _ in range((len(chromosomes[elite+1:])//2)+1):\n",
    "        p1 = tournment(chromosomes,size)\n",
    "        p2 = tournment(chromosomes,size)\n",
    "        rand = np.round(np.random.random(),2)\n",
    "        \n",
    "        if rand > prob:\n",
    "            new_pop.append(p1)\n",
    "            new_pop.append(p2)\n",
    "            \n",
    "        else:\n",
    "            ind1 = np.random.randint(low = 0,high = length-1)  \n",
    "            ind2 = np.random.randint(low = 0,high = length-1) \n",
    "            while ind2 == ind1:\n",
    "                ind2 = np.random.randint(low = 0,high = length-1)\n",
    "                \n",
    "            ch1,ch2 = PMC(p1,p2,ind1,ind2)\n",
    "            new_pop.append(ch1)\n",
    "            new_pop.append(ch2)"
   ]
  },
  {
   "cell_type": "code",
   "execution_count": 416,
   "id": "e660a3a5",
   "metadata": {},
   "outputs": [],
   "source": [
    "def Mutation(new_pop,elite,prob_M,length):\n",
    "    for p in new_pop[elite:]:\n",
    "        pp = p.data\n",
    "        rand = np.round(np.random.random(),2)\n",
    "        if rand < prob_M:\n",
    "            ind1 = np.random.randint(low = 0,high = length -1)  \n",
    "            ind2 = np.random.randint(low = 0,high = length -1)\n",
    "            while ind2 == ind1:\n",
    "                        ind2 = np.random.randint(low = 0,high = length-1)\n",
    "            pp[ind1],pp[ind2] = pp[ind2],pp[ind1] \n",
    "         "
   ]
  },
  {
   "cell_type": "code",
   "execution_count": 596,
   "id": "16fef619",
   "metadata": {},
   "outputs": [],
   "source": [
    "def GA(data,size,cross_over_prob,mutation_prob,elite_items,length):\n",
    "    out = []\n",
    "    popp = Init_population(data,size)\n",
    "    out.append(popp)\n",
    "    #print(len(popp[0]))\n",
    "    for _ in range(200):\n",
    "        new_population = []\n",
    "        #print(len(popp))\n",
    "        p_sorted,elite = Elitism(popp,elite_items)\n",
    "        #print(l)\n",
    "        for p in p_sorted[0:elite]:\n",
    "            new_population.append(p)\n",
    "        #print(p_sorted)\n",
    "        CrossOver(size,elite,p_sorted,cross_over_prob,new_population,length)\n",
    "        Mutation(new_population,elite,mutation_prob,length)\n",
    "        popp = copy.deepcopy(new_population)\n",
    "        out.append(popp)\n",
    "        #print(popp)\n",
    "        #print('-----------------------------------------')\n",
    "        \n",
    "    return out"
   ]
  },
  {
   "cell_type": "code",
   "execution_count": 631,
   "id": "4b2a943f",
   "metadata": {},
   "outputs": [],
   "source": [
    "out = GA(data,350,0.7,0.3,150,15)"
   ]
  },
  {
   "cell_type": "code",
   "execution_count": 632,
   "id": "4697b2d0",
   "metadata": {},
   "outputs": [
    {
     "data": {
      "text/plain": [
       "284.3810904080332"
      ]
     },
     "execution_count": 632,
     "metadata": {},
     "output_type": "execute_result"
    }
   ],
   "source": [
    "out[-1][0].Cost"
   ]
  },
  {
   "cell_type": "code",
   "execution_count": 546,
   "id": "d3471368",
   "metadata": {},
   "outputs": [],
   "source": [
    "import matplotlib.pyplot as plt"
   ]
  },
  {
   "cell_type": "code",
   "execution_count": 788,
   "id": "6cb6e32c",
   "metadata": {},
   "outputs": [],
   "source": [
    "result = out[-1][7]"
   ]
  },
  {
   "cell_type": "code",
   "execution_count": 789,
   "id": "3f7eba63",
   "metadata": {},
   "outputs": [
    {
     "data": {
      "text/plain": [
       "[1, 13, 2, 15, 7, 5, 3, 9, 12, 14, 10, 8, 6, 4, 11]"
      ]
     },
     "execution_count": 789,
     "metadata": {},
     "output_type": "execute_result"
    }
   ],
   "source": [
    "result"
   ]
  },
  {
   "cell_type": "code",
   "execution_count": 790,
   "id": "d81517ae",
   "metadata": {},
   "outputs": [
    {
     "data": {
      "text/plain": [
       "284.3810904080332"
      ]
     },
     "execution_count": 790,
     "metadata": {},
     "output_type": "execute_result"
    }
   ],
   "source": [
    "result.Cost"
   ]
  },
  {
   "cell_type": "code",
   "execution_count": 791,
   "id": "744a45e8",
   "metadata": {},
   "outputs": [],
   "source": [
    "x = []\n",
    "y = []\n",
    "for city in result.data:\n",
    "    x.append(city.X_coor)\n",
    "    y.append(city.Y_coor)"
   ]
  },
  {
   "cell_type": "code",
   "execution_count": 792,
   "id": "d6cef184",
   "metadata": {},
   "outputs": [
    {
     "data": {
      "text/plain": [
       "[<matplotlib.lines.Line2D at 0x22886d5f610>]"
      ]
     },
     "execution_count": 792,
     "metadata": {},
     "output_type": "execute_result"
    },
    {
     "data": {
      "image/png": "[encoded data removed]",
      "text/plain": [
       "<Figure size 432x288 with 1 Axes>"
      ]
     },
     "metadata": {
      "needs_background": "light"
     },
     "output_type": "display_data"
    }
   ],
   "source": [
    "plt.plot(x,y,'-o')"
   ]
  },
  {
   "cell_type": "code",
   "execution_count": 672,
   "id": "85100912",
   "metadata": {},
   "outputs": [
    {
     "data": {
      "text/plain": [
       "284.3810904080332"
      ]
     },
     "execution_count": 672,
     "metadata": {},
     "output_type": "execute_result"
    }
   ],
   "source": [
    "result.Cost"
   ]
  },
  {
   "cell_type": "code",
   "execution_count": 793,
   "id": "2f879132",
   "metadata": {},
   "outputs": [],
   "source": [
    "r = out[-1][50]"
   ]
  },
  {
   "cell_type": "code",
   "execution_count": 794,
   "id": "a90e5c80",
   "metadata": {},
   "outputs": [
    {
     "data": {
      "text/plain": [
       "[5, 3, 9, 12, 7, 8, 15, 14, 6, 2, 10, 4, 13, 1, 11]"
      ]
     },
     "execution_count": 794,
     "metadata": {},
     "output_type": "execute_result"
    }
   ],
   "source": [
    "r"
   ]
  },
  {
   "cell_type": "code",
   "execution_count": 795,
   "id": "6792e333",
   "metadata": {},
   "outputs": [
    {
     "data": {
      "text/plain": [
       "284.3810904080332"
      ]
     },
     "execution_count": 795,
     "metadata": {},
     "output_type": "execute_result"
    }
   ],
   "source": [
    "r.Cost"
   ]
  },
  {
   "cell_type": "code",
   "execution_count": 796,
   "id": "b823600b",
   "metadata": {},
   "outputs": [],
   "source": [
    "h = []\n",
    "k = []\n",
    "for city in r.data:\n",
    "    h.append(city.X_coor)\n",
    "    k.append(city.Y_coor)"
   ]
  },
  {
   "cell_type": "code",
   "execution_count": null,
   "id": "8a8226bc",
   "metadata": {},
   "outputs": [],
   "source": [
    "plt.plot(x,y,'-o')"
   ]
  }
 ],
 "metadata": {
  "kernelspec": {
   "display_name": "Python 3 (ipykernel)",
   "language": "python",
   "name": "python3"
  },
  "language_info": {
   "codemirror_mode": {
    "name": "ipython",
    "version": 3
   },
   "file_extension": ".py",
   "mimetype": "text/x-python",
   "name": "python",
   "nbconvert_exporter": "python",
   "pygments_lexer": "ipython3",
   "version": "3.9.13"
  }
 },
 "nbformat": 4,
 "nbformat_minor": 5
}
